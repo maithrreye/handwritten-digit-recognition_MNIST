{
  "nbformat": 4,
  "nbformat_minor": 0,
  "metadata": {
    "colab": {
      "name": "MNIST_NeuralNetwork.ipynb",
      "provenance": [],
      "toc_visible": true
    },
    "kernelspec": {
      "name": "python3",
      "display_name": "Python 3"
    },
    "accelerator": "GPU"
  },
  "cells": [
    {
      "cell_type": "code",
      "metadata": {
        "colab": {
          "base_uri": "https://localhost:8080/",
          "height": 317
        },
        "id": "ru9G57ux_5d6",
        "outputId": "47fa193c-f62b-466a-86ea-3f6954aba5d9"
      },
      "source": [
        "from google.colab import drive\n",
        "drive.mount('/content/gdrive')"
      ],
      "execution_count": 71,
      "outputs": [
        {
          "output_type": "error",
          "ename": "ValueError",
          "evalue": "ignored",
          "traceback": [
            "\u001b[0;31m---------------------------------------------------------------------------\u001b[0m",
            "\u001b[0;31mValueError\u001b[0m                                Traceback (most recent call last)",
            "\u001b[0;32m<ipython-input-71-4996ee3d8d09>\u001b[0m in \u001b[0;36m<module>\u001b[0;34m()\u001b[0m\n\u001b[1;32m      1\u001b[0m \u001b[0;32mfrom\u001b[0m \u001b[0mgoogle\u001b[0m\u001b[0;34m.\u001b[0m\u001b[0mcolab\u001b[0m \u001b[0;32mimport\u001b[0m \u001b[0mdrive\u001b[0m\u001b[0;34m\u001b[0m\u001b[0;34m\u001b[0m\u001b[0m\n\u001b[0;32m----> 2\u001b[0;31m \u001b[0mdrive\u001b[0m\u001b[0;34m.\u001b[0m\u001b[0mmount\u001b[0m\u001b[0;34m(\u001b[0m\u001b[0;34m'/content/gdrive'\u001b[0m\u001b[0;34m)\u001b[0m\u001b[0;34m\u001b[0m\u001b[0;34m\u001b[0m\u001b[0m\n\u001b[0m",
            "\u001b[0;32m/usr/local/lib/python3.7/dist-packages/google/colab/drive.py\u001b[0m in \u001b[0;36mmount\u001b[0;34m(mountpoint, force_remount, timeout_ms, use_metadata_server)\u001b[0m\n\u001b[1;32m    158\u001b[0m       \u001b[0;32mraise\u001b[0m \u001b[0mValueError\u001b[0m\u001b[0;34m(\u001b[0m\u001b[0;34m'Mountpoint must not be a symlink'\u001b[0m\u001b[0;34m)\u001b[0m\u001b[0;34m\u001b[0m\u001b[0;34m\u001b[0m\u001b[0m\n\u001b[1;32m    159\u001b[0m     \u001b[0;32mif\u001b[0m \u001b[0m_os\u001b[0m\u001b[0;34m.\u001b[0m\u001b[0mpath\u001b[0m\u001b[0;34m.\u001b[0m\u001b[0misdir\u001b[0m\u001b[0;34m(\u001b[0m\u001b[0mmountpoint\u001b[0m\u001b[0;34m)\u001b[0m \u001b[0;32mand\u001b[0m \u001b[0m_os\u001b[0m\u001b[0;34m.\u001b[0m\u001b[0mlistdir\u001b[0m\u001b[0;34m(\u001b[0m\u001b[0mmountpoint\u001b[0m\u001b[0;34m)\u001b[0m\u001b[0;34m:\u001b[0m\u001b[0;34m\u001b[0m\u001b[0;34m\u001b[0m\u001b[0m\n\u001b[0;32m--> 160\u001b[0;31m       \u001b[0;32mraise\u001b[0m \u001b[0mValueError\u001b[0m\u001b[0;34m(\u001b[0m\u001b[0;34m'Mountpoint must not already contain files'\u001b[0m\u001b[0;34m)\u001b[0m\u001b[0;34m\u001b[0m\u001b[0;34m\u001b[0m\u001b[0m\n\u001b[0m\u001b[1;32m    161\u001b[0m     \u001b[0;32mif\u001b[0m \u001b[0;32mnot\u001b[0m \u001b[0m_os\u001b[0m\u001b[0;34m.\u001b[0m\u001b[0mpath\u001b[0m\u001b[0;34m.\u001b[0m\u001b[0misdir\u001b[0m\u001b[0;34m(\u001b[0m\u001b[0mmountpoint\u001b[0m\u001b[0;34m)\u001b[0m \u001b[0;32mand\u001b[0m \u001b[0m_os\u001b[0m\u001b[0;34m.\u001b[0m\u001b[0mpath\u001b[0m\u001b[0;34m.\u001b[0m\u001b[0mexists\u001b[0m\u001b[0;34m(\u001b[0m\u001b[0mmountpoint\u001b[0m\u001b[0;34m)\u001b[0m\u001b[0;34m:\u001b[0m\u001b[0;34m\u001b[0m\u001b[0;34m\u001b[0m\u001b[0m\n\u001b[1;32m    162\u001b[0m       \u001b[0;32mraise\u001b[0m \u001b[0mValueError\u001b[0m\u001b[0;34m(\u001b[0m\u001b[0;34m'Mountpoint must either be a directory or not exist'\u001b[0m\u001b[0;34m)\u001b[0m\u001b[0;34m\u001b[0m\u001b[0;34m\u001b[0m\u001b[0m\n",
            "\u001b[0;31mValueError\u001b[0m: Mountpoint must not already contain files"
          ]
        }
      ]
    },
    {
      "cell_type": "code",
      "metadata": {
        "id": "bpMDLD50AAdm"
      },
      "source": [
        "import numpy as np\n",
        "import torch\n",
        "import torchvision\n",
        "import matplotlib.pyplot as plt\n",
        "from time import time\n",
        "from torchvision import datasets, transforms\n",
        "from torch import nn, optim"
      ],
      "execution_count": 72,
      "outputs": []
    },
    {
      "cell_type": "markdown",
      "metadata": {
        "id": "Lv-F2Pyh0Daa"
      },
      "source": [
        "**Dataset: handwritten-digit-mnist**"
      ]
    },
    {
      "cell_type": "markdown",
      "metadata": {
        "id": "WeT7yE2hAKlV"
      },
      "source": [
        "**Transform To Tensors **\n",
        "\n",
        "\n",
        "*  Converts the pixels of each image to the brightness of their color between 0 and 255.(RGB)\n",
        "*   These values are then scaled down to a range between 0 and 1.\n",
        "\n",
        "**Normalize:**\n",
        "\n",
        "1.   normalizes the tensor with a mean and standard deviation which goes as the two parameters \n"
      ]
    },
    {
      "cell_type": "code",
      "metadata": {
        "id": "zP82KbH4AOex"
      },
      "source": [
        "transform = transforms.Compose([transforms.ToTensor(),\n",
        "                              transforms.Normalize((0.5,), (0.5,)),\n",
        "                              ])"
      ],
      "execution_count": 73,
      "outputs": []
    },
    {
      "cell_type": "markdown",
      "metadata": {
        "id": "j_3KQHC9ATx4"
      },
      "source": [
        "### **Download the dataset and saved it in drive **"
      ]
    },
    {
      "cell_type": "code",
      "metadata": {
        "id": "T-AYnWlxAXEf"
      },
      "source": [
        "trainset = datasets.MNIST('/content/gdrive/MyDrive/mnist/MNIST_data/', download=True, train=True, transform=transform)\n",
        "valset = datasets.MNIST('/content/gdrive/MyDrive/mnist/MNIST_data/', download=True, train=False, transform=transform)"
      ],
      "execution_count": 41,
      "outputs": []
    },
    {
      "cell_type": "code",
      "metadata": {
        "id": "eYsgV850A-O5"
      },
      "source": [
        "trainloader = torch.utils.data.DataLoader(trainset, batch_size=64, shuffle=True)\n",
        "valloader = torch.utils.data.DataLoader(valset, batch_size=64, shuffle=True)"
      ],
      "execution_count": 42,
      "outputs": []
    },
    {
      "cell_type": "code",
      "metadata": {
        "colab": {
          "base_uri": "https://localhost:8080/"
        },
        "id": "hEL1pVt2BJyf",
        "outputId": "54cd9e7d-60d9-4363-dc11-250288ee0750"
      },
      "source": [
        "type(trainloader)\n",
        "type(valloader)"
      ],
      "execution_count": 43,
      "outputs": [
        {
          "output_type": "execute_result",
          "data": {
            "text/plain": [
              "torch.utils.data.dataloader.DataLoader"
            ]
          },
          "metadata": {
            "tags": []
          },
          "execution_count": 43
        }
      ]
    },
    {
      "cell_type": "markdown",
      "metadata": {
        "id": "wichuWXzEGs7"
      },
      "source": [
        "## **there are 64 images in each batch and each image has a dimension of 28 x 28 pixels**\n",
        "\n",
        "## **the labels have a shape as torch.Size([64])**"
      ]
    },
    {
      "cell_type": "code",
      "metadata": {
        "colab": {
          "base_uri": "https://localhost:8080/"
        },
        "id": "nPcegRIaDoGA",
        "outputId": "d6bd8548-a483-4800-f5bc-e4ef5eefe914"
      },
      "source": [
        "dataiter = iter(trainloader)\n",
        "images, labels = dataiter.next()\n",
        "print(type(images))\n",
        "print(images.shape)\n",
        "print(labels.shape)"
      ],
      "execution_count": 44,
      "outputs": [
        {
          "output_type": "stream",
          "text": [
            "<class 'torch.Tensor'>\n",
            "torch.Size([64, 1, 28, 28])\n",
            "torch.Size([64])\n"
          ],
          "name": "stdout"
        }
      ]
    },
    {
      "cell_type": "markdown",
      "metadata": {
        "id": "l_pmwGv6ReTk"
      },
      "source": [
        "one image is dimension (1, 28, 28)--->(64, 28, 28). If you don't squeeze , you cannot use it in imshow so we sqeeze() and the shape becomes (28,28)\n",
        "\n",
        "\n",
        "\n"
      ]
    },
    {
      "cell_type": "code",
      "metadata": {
        "colab": {
          "base_uri": "https://localhost:8080/",
          "height": 265
        },
        "id": "AV0Xp3knD5N8",
        "outputId": "77a144f0-b4fd-4af6-f578-d53197383b07"
      },
      "source": [
        "plt.imshow(images[2].numpy().squeeze(), cmap='gray_r');"
      ],
      "execution_count": 45,
      "outputs": [
        {
          "output_type": "display_data",
          "data": {
            "image/png": "[encoded data removed]",
            "text/plain": [
              "<Figure size 432x288 with 1 Axes>"
            ]
          },
          "metadata": {
            "tags": [],
            "needs_background": "light"
          }
        }
      ]
    },
    {
      "cell_type": "code",
      "metadata": {
        "colab": {
          "base_uri": "https://localhost:8080/",
          "height": 246
        },
        "id": "koDPLzlTSSqD",
        "outputId": "44ce90c3-d270-47df-a786-69936db119b4"
      },
      "source": [
        "num_of_images = 60\n",
        "for index in range(1, num_of_images + 1):\n",
        "    plt.subplot(6, 10, index)\n",
        "    plt.axis('off')\n",
        "    plt.imshow(images[index].numpy().squeeze(), cmap='gray_r')"
      ],
      "execution_count": 46,
      "outputs": [
        {
          "output_type": "display_data",
          "data": {
            "image/png": "[encoded data removed]",
            "text/plain": [
              "<Figure size 432x288 with 60 Axes>"
            ]
          },
          "metadata": {
            "tags": [],
            "needs_background": "light"
          }
        }
      ]
    },
    {
      "cell_type": "markdown",
      "metadata": {
        "id": "weS1FTxySvxw"
      },
      "source": [
        "**Input layer (the first layer), an output layer of ten neurons (or units, the circles) and two hidden layers in between.**\n",
        "\n",
        "Input 784 \n",
        "Hiden layer 128\n",
        "Hinden Layer 64\n",
        "output Layer 10\n",
        "\n",
        "28*28 which is 784 and the input "
      ]
    },
    {
      "cell_type": "code",
      "metadata": {
        "id": "z7wfoHSIS7qc"
      },
      "source": [
        "in_size = 784\n",
        "hidden_size = [128, 64]\n",
        "out_size = 10\n",
        "\n"
      ],
      "execution_count": 47,
      "outputs": []
    },
    {
      "cell_type": "code",
      "metadata": {
        "id": "gHKlLm55Tjne"
      },
      "source": [
        "model = nn.Sequential(nn.Linear(in_size, hidden_size[0]),\n",
        "                      nn.ReLU(),\n",
        "                      nn.Linear(hidden_size[0], hidden_size[1]),\n",
        "                      nn.ReLU(),\n",
        "                      nn.Linear(hidden_size[1], out_size),\n",
        "                      nn.LogSoftmax(dim=1))"
      ],
      "execution_count": 48,
      "outputs": []
    },
    {
      "cell_type": "code",
      "metadata": {
        "colab": {
          "base_uri": "https://localhost:8080/"
        },
        "id": "8Crdf-DTYLeh",
        "outputId": "cb160d5a-b9d2-41a6-890b-ced4dd4d79c5"
      },
      "source": [
        "print(model)"
      ],
      "execution_count": 49,
      "outputs": [
        {
          "output_type": "stream",
          "text": [
            "Sequential(\n",
            "  (0): Linear(in_features=784, out_features=128, bias=True)\n",
            "  (1): ReLU()\n",
            "  (2): Linear(in_features=128, out_features=64, bias=True)\n",
            "  (3): ReLU()\n",
            "  (4): Linear(in_features=64, out_features=10, bias=True)\n",
            "  (5): LogSoftmax(dim=1)\n",
            ")\n"
          ],
          "name": "stdout"
        }
      ]
    },
    {
      "cell_type": "markdown",
      "metadata": {
        "id": "imJn0USmb5Nb"
      },
      "source": [
        "1.  ReLU activation ( a simple function which allows positive values to pass through, whereas negative values are modified to zero ).\n",
        "2. A LogSoftmax function is the logarithm of a Softmax function\n",
        "**torch.nn.LogSoftmax(dim: Optional[int] = None)**\n",
        "\n",
        "![Screenshot 2021-02-28 at 12.44.31 PM.png](data:image/png;base64,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)"
      ]
    },
    {
      "cell_type": "markdown",
      "metadata": {
        "id": "8jU-kCmlhTU4"
      },
      "source": [
        "The negative log likelihood loss. \n",
        "It is useful to train a classification problem with C classes.\n",
        "\n",
        "If provided, the optional argument weight should be a 1D Tensor assigning weight to each of the classes. \n",
        "\n",
        "This is particularly useful when you have an unbalanced training set.\n",
        "\n",
        "\n",
        "### **torch.nn.NLLLoss(weight: Optional[torch.Tensor] = None, size_average=None, ignore_index: int = -100, reduce=None, reduction: str = 'mean')**"
      ]
    },
    {
      "cell_type": "code",
      "metadata": {
        "id": "tpGtLGQChzAv"
      },
      "source": [
        "criterion = nn.NLLLoss()"
      ],
      "execution_count": null,
      "outputs": []
    },
    {
      "cell_type": "code",
      "metadata": {
        "id": "sfS8d3Fmh2TW"
      },
      "source": [
        "images, labels = next(iter(trainloader))\n",
        "images = images.view(images.shape[0], -1)"
      ],
      "execution_count": 51,
      "outputs": []
    },
    {
      "cell_type": "code",
      "metadata": {
        "colab": {
          "base_uri": "https://localhost:8080/"
        },
        "id": "vJdrFFpph8qm",
        "outputId": "04665dc0-7af3-46f5-b905-4f3d58dc04ef"
      },
      "source": [
        "images.shape"
      ],
      "execution_count": 53,
      "outputs": [
        {
          "output_type": "execute_result",
          "data": {
            "text/plain": [
              "torch.Size([64, 784])"
            ]
          },
          "metadata": {
            "tags": []
          },
          "execution_count": 53
        }
      ]
    },
    {
      "cell_type": "markdown",
      "metadata": {
        "id": "aw7YXzLZiSnT"
      },
      "source": [
        "# **To Calculate Log Probabilities **\n",
        "\n",
        "\n"
      ]
    },
    {
      "cell_type": "code",
      "metadata": {
        "colab": {
          "base_uri": "https://localhost:8080/"
        },
        "id": "N4bUjEV1iOBP",
        "outputId": "ec18b588-5f37-4ccc-ebab-97eee4488c30"
      },
      "source": [
        "logps = model(images) \n",
        "logps.shape"
      ],
      "execution_count": 55,
      "outputs": [
        {
          "output_type": "execute_result",
          "data": {
            "text/plain": [
              "torch.Size([64, 10])"
            ]
          },
          "metadata": {
            "tags": []
          },
          "execution_count": 55
        }
      ]
    },
    {
      "cell_type": "markdown",
      "metadata": {
        "id": "oaboeMrNi4i1"
      },
      "source": [
        "## **To Calculate NLL Loss\n",
        "\n"
      ]
    },
    {
      "cell_type": "code",
      "metadata": {
        "id": "jJMKSOxoikkB"
      },
      "source": [
        "loss = criterion(logps, labels)"
      ],
      "execution_count": 57,
      "outputs": []
    },
    {
      "cell_type": "markdown",
      "metadata": {
        "id": "bVcPlxstjYBi"
      },
      "source": [
        "A neural network learns by iterating multiple times over the available data. \n",
        "\n",
        "\n",
        "The terms **learn** refers to the adjustment of weights  to minimize the loss.\n",
        "\n",
        "\n",
        "Before the backward pass, the model weights are set to default **none** values.\n",
        "\n",
        "\n",
        "\n",
        "The weights are updated once backward() function is called \n",
        "\n"
      ]
    },
    {
      "cell_type": "code",
      "metadata": {
        "colab": {
          "base_uri": "https://localhost:8080/"
        },
        "id": "nm-RlQK8jDJZ",
        "outputId": "553f0eab-f7c8-4410-9691-33a60f6eb113"
      },
      "source": [
        "print('Before backward pass: \\n', model[0].weight.grad)\n",
        "loss.backward()\n",
        "print('After backward pass: \\n', model[0].weight.grad)"
      ],
      "execution_count": 58,
      "outputs": [
        {
          "output_type": "stream",
          "text": [
            "Before backward pass: \n",
            " None\n",
            "After backward pass: \n",
            " tensor([[ 0.0025,  0.0025,  0.0025,  ...,  0.0025,  0.0025,  0.0025],\n",
            "        [ 0.0021,  0.0021,  0.0021,  ...,  0.0021,  0.0021,  0.0021],\n",
            "        [ 0.0016,  0.0016,  0.0016,  ...,  0.0016,  0.0016,  0.0016],\n",
            "        ...,\n",
            "        [-0.0062, -0.0062, -0.0062,  ..., -0.0062, -0.0062, -0.0062],\n",
            "        [-0.0042, -0.0042, -0.0042,  ..., -0.0042, -0.0042, -0.0042],\n",
            "        [ 0.0005,  0.0005,  0.0005,  ...,  0.0005,  0.0005,  0.0005]])\n"
          ],
          "name": "stdout"
        }
      ]
    },
    {
      "cell_type": "markdown",
      "metadata": {
        "id": "Zl8txbVhkfLP"
      },
      "source": [
        "\n",
        "*  We make use of **torch.optim** which is a module provided by PyTorch to optimize the model, perform gradient descent and update the weights by back-propagation.\n",
        "\n"
      ]
    },
    {
      "cell_type": "code",
      "metadata": {
        "id": "WA9oKgBWlWSG"
      },
      "source": [
        "optimizer = optim.SGD(model.parameters(), lr=0.003, momentum=0.9)\n",
        "time0 = time()\n",
        "epochs = 15"
      ],
      "execution_count": 59,
      "outputs": []
    },
    {
      "cell_type": "markdown",
      "metadata": {
        "id": "9DE4BbFvn8jx"
      },
      "source": [
        "All optimizers implement a **step()** method, that updates the parameters.This is a simplified version supported by most optimizers.\n",
        "\n",
        "The function can be called once the gradients are computed using e.g. backward()."
      ]
    },
    {
      "cell_type": "code",
      "metadata": {
        "colab": {
          "base_uri": "https://localhost:8080/"
        },
        "id": "NJ3WdQELlZb2",
        "outputId": "66fdffaa-5c5e-4656-b88a-e42eb1590b74"
      },
      "source": [
        "for e in range(epochs):\n",
        "    running_loss = 0\n",
        "    for images, labels in trainloader:\n",
        "      images = images.view(images.shape[0], -1) # Flatten MNIST images into a 784 long vector\n",
        "      optimizer.zero_grad()#Sets the gradients of all optimized torch.Tensor s to zero.\n",
        "      output = model(images)\n",
        "      loss = criterion(output, labels)\n",
        "      loss.backward() #the model learns by backpropagating\n",
        "      #print('Gradient -', model[0].weight.grad)\n",
        "      optimizer.step()\n",
        "      #print('Updated weights - ', model[0].weight)\n",
        "      running_loss += loss.item()\n",
        "    else:\n",
        "      print(\"Epoch {} - Training loss: {}\".format(e, running_loss/len(trainloader)))\n"
      ],
      "execution_count": 60,
      "outputs": [
        {
          "output_type": "stream",
          "text": [
            "Epoch 0 - Training loss: 0.6316543988375141\n",
            "Epoch 1 - Training loss: 0.28687751039004783\n",
            "Epoch 2 - Training loss: 0.2275097093689861\n",
            "Epoch 3 - Training loss: 0.18492904287586207\n",
            "Epoch 4 - Training loss: 0.15427377405288473\n",
            "Epoch 5 - Training loss: 0.13297168502627787\n",
            "Epoch 6 - Training loss: 0.11648923187439185\n",
            "Epoch 7 - Training loss: 0.1046207887929743\n",
            "Epoch 8 - Training loss: 0.09343919046382025\n",
            "Epoch 9 - Training loss: 0.0855834922397823\n",
            "Epoch 10 - Training loss: 0.07821196826474705\n",
            "Epoch 11 - Training loss: 0.07208053691229269\n",
            "Epoch 12 - Training loss: 0.0651635836714557\n",
            "Epoch 13 - Training loss: 0.060215618063225104\n",
            "Epoch 14 - Training loss: 0.05550860959951128\n"
          ],
          "name": "stdout"
        }
      ]
    },
    {
      "cell_type": "code",
      "metadata": {
        "colab": {
          "base_uri": "https://localhost:8080/"
        },
        "id": "AE0unJZXocJk",
        "outputId": "37d99d77-c41e-4ec0-df59-f1c9e4a25b3f"
      },
      "source": [
        "print(\"\\nTraining Time (in minutes) =\",(time()-time0)/60)"
      ],
      "execution_count": 61,
      "outputs": [
        {
          "output_type": "stream",
          "text": [
            "\n",
            "Training Time (in minutes) = 19.35792414744695\n"
          ],
          "name": "stdout"
        }
      ]
    },
    {
      "cell_type": "markdown",
      "metadata": {
        "id": "kX2zpA5jqilF"
      },
      "source": [
        "\n",
        "viewClassify function - image and class probabilities that were predicted\n",
        "\n"
      ]
    },
    {
      "cell_type": "code",
      "metadata": {
        "id": "0xJrlBTIp19G"
      },
      "source": [
        "def viewClassify(img, ps):\n",
        "    ''' Function for viewing an image and it's predicted classes.\n",
        "    '''\n",
        "    ps = ps.cpu().data.numpy().squeeze()\n",
        "\n",
        "    fig, (ax1, ax2) = plt.subplots(figsize=(6,9), ncols=2)\n",
        "    ax1.imshow(img.resize_(1, 28, 28).numpy().squeeze())\n",
        "    ax1.axis('off')\n",
        "    ax2.barh(np.arange(10), ps)\n",
        "    ax2.set_aspect(0.1)\n",
        "    ax2.set_yticks(np.arange(10))\n",
        "    ax2.set_yticklabels(np.arange(10))\n",
        "    ax2.set_title('Class Probability')\n",
        "    ax2.set_xlim(0, 1.1)\n",
        "    plt.tight_layout()"
      ],
      "execution_count": 64,
      "outputs": []
    },
    {
      "cell_type": "code",
      "metadata": {
        "colab": {
          "base_uri": "https://localhost:8080/",
          "height": 270
        },
        "id": "FiqSDsYTq8-R",
        "outputId": "74d528cb-dc07-474c-9259-b37b3964fe95"
      },
      "source": [
        "images, labels = next(iter(valloader))\n",
        "\n",
        "img = images[0].view(1, 784)\n",
        "with torch.no_grad():\n",
        "    logps = model(img)\n",
        "\n",
        "ps = torch.exp(logps)\n",
        "probab = list(ps.numpy()[0])\n",
        "print(\"Predicted Digit =\", probab.index(max(probab)))\n",
        "viewClassify(img.view(1, 28, 28), ps)"
      ],
      "execution_count": 65,
      "outputs": [
        {
          "output_type": "stream",
          "text": [
            "Predicted Digit = 2\n"
          ],
          "name": "stdout"
        },
        {
          "output_type": "display_data",
          "data": {
            "image/png": "[encoded data removed]",
            "text/plain": [
              "<Figure size 432x648 with 2 Axes>"
            ]
          },
          "metadata": {
            "tags": [],
            "needs_background": "light"
          }
        }
      ]
    },
    {
      "cell_type": "markdown",
      "metadata": {
        "id": "681UOdpbwUwG"
      },
      "source": [
        "Iterate through the validation set using a for loop .\n",
        "\n",
        "Calculate the total number of correct predictions. This is how we can calculate the accuracy."
      ]
    },
    {
      "cell_type": "code",
      "metadata": {
        "colab": {
          "base_uri": "https://localhost:8080/"
        },
        "id": "GI32WeIAwT7v",
        "outputId": "d3817ecb-1f44-4763-8499-48c37d4c6f02"
      },
      "source": [
        "correct_count, all_count = 0, 0\n",
        "for images,labels in valloader:\n",
        "  for i in range(len(labels)):\n",
        "    img = images[i].view(1, 784)\n",
        "    with torch.no_grad():\n",
        "        logps = model(img)\n",
        "\n",
        "    \n",
        "    ps = torch.exp(logps)\n",
        "    probab = list(ps.numpy()[0])\n",
        "    pred_label = probab.index(max(probab))\n",
        "    true_label = labels.numpy()[i]\n",
        "    if(true_label == pred_label):\n",
        "      correct_count += 1\n",
        "    all_count += 1\n",
        "\n",
        "print(\"Number Of Images Tested =\", all_count)\n",
        "print(\"\\nModel Accuracy =\", (correct_count/all_count))\n"
      ],
      "execution_count": 66,
      "outputs": [
        {
          "output_type": "stream",
          "text": [
            "Number Of Images Tested = 10000\n",
            "\n",
            "Model Accuracy = 0.9733\n"
          ],
          "name": "stdout"
        }
      ]
    },
    {
      "cell_type": "markdown",
      "metadata": {
        "id": "S6yl0tPoyqih"
      },
      "source": [
        "### **Wow! We got over 97.3% accuracy with simple NN**\n",
        "\n",
        "# We do not want to lose the trained model. \n",
        "# Save it !!! Load it and Use it "
      ]
    },
    {
      "cell_type": "code",
      "metadata": {
        "id": "kpAnf0BXzsOX"
      },
      "source": [
        "torch.save(model, './my_mnist_model.pt') "
      ],
      "execution_count": 67,
      "outputs": []
    },
    {
      "cell_type": "markdown",
      "metadata": {
        "id": "4Cptxm2-0XtR"
      },
      "source": [
        "Reference:\n",
        "\n",
        "https://pytorch.org/tutorials/beginner/pytorch_with_examples.html\n",
        "\n",
        "Medium Articles on Neural Network, PyTorch, MNIST.\n"
      ]
    }
  ]
}